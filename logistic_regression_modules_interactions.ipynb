{
 "cells": [
  {
   "cell_type": "markdown",
   "metadata": {},
   "source": [
    "### Importando Dependências"
   ]
  },
  {
   "cell_type": "code",
   "execution_count": 249,
   "metadata": {},
   "outputs": [],
   "source": [
    "import os \n",
    "from google.cloud import bigquery\n",
    "os.environ['GOOGLE_APPLICATION_CREDENTIALS'] = 'credentials/service_account.json'\n",
    "import pandas as pd\n",
    "from sklearn.datasets import make_classification\n",
    "from sklearn.linear_model import LogisticRegression\n",
    "from sklearn.model_selection import train_test_split\n",
    "from sklearn.metrics import confusion_matrix, classification_report\n",
    "from sklearn.preprocessing import StandardScaler\n",
    "import joblib\n",
    "import numpy as np\n",
    "import pickle"
   ]
  },
  {
   "cell_type": "markdown",
   "metadata": {},
   "source": [
    "### Consultando dados e Tratando"
   ]
  },
  {
   "cell_type": "code",
   "execution_count": 247,
   "metadata": {},
   "outputs": [],
   "source": [
    "query = open('queries\\interactions_conversions.sql').read()\n",
    "df = pd.read_gbq(query, project_id = 'capim-404203', dialect= 'standard')\n",
    "\n",
    "##FILTERING FOR USERS WITH NO INTERACTIONS\n",
    "df = df.loc[df['ACTIVE_USER_DAYS'] > 0].reset_index(drop=True)\n",
    "\n",
    "df['TRIAL_DURATION'] = df['TRIAL_DURATION'].astype('int')\n",
    "df['CLINIC_ID'] = df['CLINIC_ID'].astype('int')\n",
    "df['IS_CONVERTED'] = df['IS_CONVERTED'].replace({True: 1, False: 0})\n",
    "df['IS_CONVERTED'] = df['IS_CONVERTED'].astype('int')\n",
    "df['ACTIVE_PATIENT_DAYS'] = df['ACTIVE_PATIENT_DAYS'].astype('float')\n",
    "df['ACTIVE_FINANCE_DAYS'] = df['ACTIVE_FINANCE_DAYS'].astype('float')\n",
    "df['ACTIVE_SETUP_DAYS'] = df['ACTIVE_SETUP_DAYS'].astype('float')\n",
    "df['ACTIVE_SCHEDULE_DAYS'] = df['ACTIVE_SCHEDULE_DAYS'].astype('float')\n",
    "df['ACTIVE_USER_DAYS'] = df['ACTIVE_USER_DAYS'].astype('float')\n",
    "df['ACTIVE_MODULES_USED'] = (df['ACTIVE_PATIENT_DAYS'] > 0).astype('int') + (df['ACTIVE_FINANCE_DAYS'] > 0).astype('int') + (df['ACTIVE_SETUP_DAYS'] > 0).astype('int') + (df['ACTIVE_SCHEDULE_DAYS'] > 0).astype('int')\n"
   ]
  },
  {
   "cell_type": "markdown",
   "metadata": {},
   "source": [
    "### Definindo variáveis e transformando"
   ]
  },
  {
   "cell_type": "code",
   "execution_count": 250,
   "metadata": {},
   "outputs": [],
   "source": [
    "Y = df['IS_CONVERTED']\n",
    "X =  df[['ACTIVE_USER_DAYS']]\n",
    "scaler = StandardScaler()\n",
    "scaler.fit(X)\n",
    "# Transformando\n",
    "X_transformed = scaler.transform(X)\n",
    "# Salvando scaler\n",
    "joblib.dump(scaler, 'models\\scaler.save') "
   ]
  },
  {
   "cell_type": "markdown",
   "metadata": {},
   "source": [
    "### Treinando Modelos"
   ]
  },
  {
   "cell_type": "code",
   "execution_count": 261,
   "metadata": {},
   "outputs": [],
   "source": [
    "#Definindo os dataframes do teste e treino\n",
    "x_train, x_test, y_train, y_test = train_test_split(X_transformed, Y, random_state=35)\n",
    "\n",
    "# Criando objeto\n",
    "log_reg = LogisticRegression(fit_intercept=False, C=1)\n",
    "# Dando fit no modelo\n",
    "log_reg.fit(x_train, y_train)\n",
    "\n",
    "#Prevendo\n",
    "y_pred = log_reg.predict(x_test)\n",
    "\n"
   ]
  },
  {
   "cell_type": "markdown",
   "metadata": {},
   "source": [
    "### Avaliando o modelo"
   ]
  },
  {
   "cell_type": "code",
   "execution_count": 258,
   "metadata": {},
   "outputs": [
    {
     "data": {
      "text/plain": [
       "0.7772727272727272"
      ]
     },
     "execution_count": 258,
     "metadata": {},
     "output_type": "execute_result"
    }
   ],
   "source": [
    "#Test Score\n",
    "log_reg.score(x_test,y_test)"
   ]
  },
  {
   "cell_type": "code",
   "execution_count": 222,
   "metadata": {},
   "outputs": [
    {
     "data": {
      "text/plain": [
       "0.7496598639455783"
      ]
     },
     "execution_count": 222,
     "metadata": {},
     "output_type": "execute_result"
    }
   ],
   "source": [
    "# Train Score\n",
    "log_reg.score(x_train,y_train)"
   ]
  },
  {
   "cell_type": "code",
   "execution_count": null,
   "metadata": {},
   "outputs": [],
   "source": [
    "#Show the Confusion Matrix\n",
    "confusion_matrix(y_test, y_pred)"
   ]
  },
  {
   "cell_type": "code",
   "execution_count": null,
   "metadata": {},
   "outputs": [],
   "source": [
    "# Show to Coeficient and Intercept\n",
    "print(log_reg.coef_)\n",
    "print(log_reg.intercept_)"
   ]
  },
  {
   "cell_type": "code",
   "execution_count": 171,
   "metadata": {},
   "outputs": [],
   "source": [
    "# Simulate for visuals\n",
    "new_x = pd.DataFrame(scaler.transform(pd.DataFrame(list(np.arange(0,10.5,.5)))), columns = ['ACTIVE_USER_DAYS_TRANSFORMED'])\n",
    "new_x['ACTIVE_USER_DAYS'] = list(np.arange(0,10.5,.5))\n",
    "probability_of_conversion = log_reg.predict_proba(new_x[['ACTIVE_USER_DAYS_TRANSFORMED']])[:,-1]\n",
    "nex_table = new_x.copy()\n",
    "nex_table['probability'] = probability_of_conversion"
   ]
  },
  {
   "cell_type": "markdown",
   "metadata": {},
   "source": [
    "### Salvando o modelo"
   ]
  },
  {
   "cell_type": "code",
   "execution_count": 256,
   "metadata": {},
   "outputs": [],
   "source": [
    "# SAVE THE MODEL\n",
    "with open(\"models/logit.pickle\", 'wb') as f:\n",
    "    pickle.dump(log_reg, f)"
   ]
  }
 ],
 "metadata": {
  "kernelspec": {
   "display_name": "Python 3",
   "language": "python",
   "name": "python3"
  },
  "language_info": {
   "codemirror_mode": {
    "name": "ipython",
    "version": 3
   },
   "file_extension": ".py",
   "mimetype": "text/x-python",
   "name": "python",
   "nbconvert_exporter": "python",
   "pygments_lexer": "ipython3",
   "version": "3.10.5"
  }
 },
 "nbformat": 4,
 "nbformat_minor": 2
}
