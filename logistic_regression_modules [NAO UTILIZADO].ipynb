{
 "cells": [
  {
   "cell_type": "code",
   "execution_count": 24,
   "metadata": {},
   "outputs": [],
   "source": [
    "import os \n",
    "from google.cloud import bigquery\n",
    "os.environ['GOOGLE_APPLICATION_CREDENTIALS'] = 'credentials/service_account.json'\n",
    "import pandas as pd\n"
   ]
  },
  {
   "cell_type": "code",
   "execution_count": 39,
   "metadata": {},
   "outputs": [],
   "source": [
    "from sklearn.datasets import make_classification\n",
    "from matplotlib import pyplot as plt\n",
    "from sklearn.linear_model import LogisticRegression\n",
    "from sklearn.model_selection import train_test_split\n",
    "from sklearn.metrics import confusion_matrix, classification_report\n",
    "import math\n",
    "from sklearn.preprocessing import StandardScaler\n",
    "import numpy as np\n",
    "\n"
   ]
  },
  {
   "cell_type": "code",
   "execution_count": 110,
   "metadata": {},
   "outputs": [],
   "source": [
    "query = open('queries\\dau_conversion').read()\n",
    "df = pd.read_gbq(query, project_id = 'capim-404203', dialect= 'standard')\n",
    "df['TRIAL_DURATION'] = df['TRIAL_DURATION'].astype('int')\n",
    "df['CLINIC_ID'] = df['CLINIC_ID'].astype('int')\n",
    "df['IS_CONVERTED'] = df['IS_CONVERTED'].replace({True: 1, False: 0})\n",
    "df['IS_CONVERTED'] = df['IS_CONVERTED'].astype('int')\n",
    "df['ACTIVE_PATIENT_DAYS'] = df['ACTIVE_PATIENT_DAYS'].astype('float')\n",
    "df['ACTIVE_FINANCE_DAYS'] = df['ACTIVE_FINANCE_DAYS'].astype('float')\n",
    "df['ACTIVE_SETUP_DAYS'] = df['ACTIVE_SETUP_DAYS'].astype('float')\n",
    "df['ACTIVE_SCHEDULE_DAYS'] = df['ACTIVE_SCHEDULE_DAYS'].astype('float')\n",
    "df['ACTIVE_USER_DAYS'] = df['ACTIVE_USER_DAYS'].astype('float') * 100\n",
    "df['ACTIVE_MODULES_USED'] = (df['ACTIVE_PATIENT_DAYS'] > 0).astype('int') + (df['ACTIVE_FINANCE_DAYS'] > 0).astype('int') + (df['ACTIVE_SETUP_DAYS'] > 0).astype('int') + (df['ACTIVE_SCHEDULE_DAYS'] > 0).astype('int')\n",
    "\n"
   ]
  },
  {
   "cell_type": "code",
   "execution_count": 123,
   "metadata": {},
   "outputs": [],
   "source": [
    "Y = df['IS_CONVERTED']\n",
    "X = df[['TRIAL_DURATION','ACTIVE_FINANCE_DAYS', 'ACTIVE_PATIENT_DAYS', 'ACTIVE_SETUP_DAYS', 'ACTIVE_SCHEDULE_DAYS', 'ACTIVE_USER_DAYS']]\n",
    "#X =  df[['ACTIVE_USER_DAYS_RAW']]"
   ]
  },
  {
   "cell_type": "code",
   "execution_count": 124,
   "metadata": {},
   "outputs": [],
   "source": [
    "scaler = StandardScaler()\n",
    "scaler.fit(X)\n",
    "X_transformed = scaler.transform(X)"
   ]
  },
  {
   "cell_type": "code",
   "execution_count": 130,
   "metadata": {},
   "outputs": [
    {
     "name": "stdout",
     "output_type": "stream",
     "text": [
      "[[0.02423318 0.18461357 0.10405509 0.13448864 0.11949563 0.24422984]]\n",
      "[-1.62285687]\n"
     ]
    },
    {
     "data": {
      "text/plain": [
       "array([[406,   4],\n",
       "       [ 91,  14]], dtype=int64)"
      ]
     },
     "execution_count": 130,
     "metadata": {},
     "output_type": "execute_result"
    }
   ],
   "source": [
    "x_train, x_test, y_train, y_test = train_test_split(X_transformed, Y, random_state=35)\n",
    "\n",
    "# Create a Logistic Regression Object, perform Logistic Regression\n",
    "log_reg = LogisticRegression(C=.005)\n",
    "log_reg.fit(x_train, y_train)\n",
    "\n",
    "log_reg.get_params()\n",
    "# Show to Coeficient and Intercept\n",
    "print(log_reg.coef_)\n",
    "print(log_reg.intercept_)\n",
    "\n",
    "y_pred = log_reg.predict(x_test)\n",
    "\n",
    "\n",
    "#Show the Confusion Matrix\n",
    "confusion_matrix(y_test, y_pred)"
   ]
  },
  {
   "cell_type": "code",
   "execution_count": 132,
   "metadata": {},
   "outputs": [
    {
     "data": {
      "text/plain": [
       "0.8155339805825242"
      ]
     },
     "execution_count": 132,
     "metadata": {},
     "output_type": "execute_result"
    }
   ],
   "source": [
    "log_reg.score(x_test,y_test)"
   ]
  },
  {
   "cell_type": "code",
   "execution_count": 44,
   "metadata": {},
   "outputs": [],
   "source": [
    "new_x = pd.DataFrame(list(np.arange(0,1.1,.1)),columns=['ACTIVE_USER_DAYS'])\n",
    "probability_of_conversion = log_reg.predict_proba(new_x)[:,-1]\n",
    "nex_table = new_x.copy()\n",
    "nex_table['probability'] = probability_of_conversion\n",
    "\n",
    "nex_table.to_csv('probs_of_conversion.csv')\n",
    "nex_table\n"
   ]
  },
  {
   "cell_type": "code",
   "execution_count": 34,
   "metadata": {},
   "outputs": [],
   "source": []
  },
  {
   "cell_type": "code",
   "execution_count": 36,
   "metadata": {},
   "outputs": [
    {
     "data": {
      "text/plain": [
       "[0.0,\n",
       " 0.1,\n",
       " 0.2,\n",
       " 0.30000000000000004,\n",
       " 0.4,\n",
       " 0.5,\n",
       " 0.6000000000000001,\n",
       " 0.7000000000000001,\n",
       " 0.8,\n",
       " 0.9,\n",
       " 1.0]"
      ]
     },
     "execution_count": 36,
     "metadata": {},
     "output_type": "execute_result"
    }
   ],
   "source": [
    "list(np.arange(0,1.1,.1))"
   ]
  },
  {
   "cell_type": "code",
   "execution_count": 54,
   "metadata": {},
   "outputs": [],
   "source": [
    "Y_prediction = log_reg.predict(X)\n",
    "\n",
    "Y_chance = log_reg.predict_proba(X)[:,-1]"
   ]
  },
  {
   "cell_type": "code",
   "execution_count": 56,
   "metadata": {},
   "outputs": [],
   "source": [
    "df['PREDICTION_IS_CONVERTED'] = Y_prediction\n",
    "df['PREDICTION_CONVERTED_CHANCE'] = Y_chance"
   ]
  },
  {
   "cell_type": "code",
   "execution_count": 58,
   "metadata": {},
   "outputs": [],
   "source": [
    "df.to_gbq('capim.prediction_converted', if_exists='append')"
   ]
  },
  {
   "cell_type": "code",
   "execution_count": 196,
   "metadata": {},
   "outputs": [],
   "source": [
    "import numpy as np"
   ]
  }
 ],
 "metadata": {
  "kernelspec": {
   "display_name": "Python 3",
   "language": "python",
   "name": "python3"
  },
  "language_info": {
   "codemirror_mode": {
    "name": "ipython",
    "version": 3
   },
   "file_extension": ".py",
   "mimetype": "text/x-python",
   "name": "python",
   "nbconvert_exporter": "python",
   "pygments_lexer": "ipython3",
   "version": "3.10.5"
  }
 },
 "nbformat": 4,
 "nbformat_minor": 2
}
